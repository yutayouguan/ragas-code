{
 "cells": [
  {
   "cell_type": "markdown",
   "metadata": {},
   "source": [
    "### 安装依赖"
   ]
  },
  {
   "cell_type": "code",
   "execution_count": 2,
   "metadata": {},
   "outputs": [
    {
     "name": "stdout",
     "output_type": "stream",
     "text": [
      "\u001b[2mResolved \u001b[1m185 packages\u001b[0m \u001b[2min 5ms\u001b[0m\u001b[0m\n",
      "\u001b[2mAudited \u001b[1m178 packages\u001b[0m \u001b[2min 0.14ms\u001b[0m\u001b[0m\n"
     ]
    }
   ],
   "source": [
    "!uv add langgraph ragas  nltk  "
   ]
  },
  {
   "cell_type": "markdown",
   "metadata": {},
   "source": [
    "### 1. 模型配置"
   ]
  },
  {
   "cell_type": "markdown",
   "metadata": {},
   "source": [
    "1.1 环境变量配置"
   ]
  },
  {
   "cell_type": "code",
   "execution_count": 6,
   "metadata": {},
   "outputs": [],
   "source": [
    "from pydantic_settings import BaseSettings, SettingsConfigDict\n",
    "from pydantic import SecretStr\n",
    "\n",
    "\n",
    "class Settings(BaseSettings):\n",
    "    model_config = SettingsConfigDict(\n",
    "        env_file=\".env\", env_file_encoding=\"utf-8\", extra=\"ignore\", case_sensitive=False\n",
    "    )\n",
    "    openai_api_key: SecretStr\n",
    "    openai_base_url: str\n",
    "    openai_model: str  # 评估用LLM\n",
    "    openai_embedding_model: str  # 嵌入模型\n",
    "    temperature: int = 0  # 固定随机种子，确保评估结果稳定\n",
    "\n",
    "\n",
    "config = Settings()"
   ]
  },
  {
   "cell_type": "markdown",
   "metadata": {},
   "source": [
    "1.2 配置模型"
   ]
  },
  {
   "cell_type": "code",
   "execution_count": 7,
   "metadata": {},
   "outputs": [],
   "source": [
    "from ragas.llms import LangchainLLMWrapper\n",
    "from ragas.embeddings import LangchainEmbeddingsWrapper\n",
    "from langchain_openai import ChatOpenAI, OpenAIEmbeddings\n",
    "\n",
    "\n",
    "llm = ChatOpenAI(\n",
    "    base_url=config.openai_base_url,\n",
    "    api_key=config.openai_api_key,\n",
    "    model=config.openai_model,\n",
    "    temperature=config.temperature,\n",
    ")\n",
    "embeddings = OpenAIEmbeddings(\n",
    "    model=config.openai_embedding_model,\n",
    "    base_url=config.openai_base_url,\n",
    "    api_key=config.openai_api_key,\n",
    ")\n",
    "\n",
    "generator_llm = LangchainLLMWrapper(llm)\n",
    "generator_embedding = LangchainEmbeddingsWrapper(embeddings=embeddings)"
   ]
  },
  {
   "cell_type": "markdown",
   "metadata": {},
   "source": [
    "### 2. 构建 ReAct 代理核心组件\n",
    "2.1 使用预定义 JSON 模拟金属价格数据"
   ]
  },
  {
   "cell_type": "code",
   "execution_count": 8,
   "metadata": {},
   "outputs": [],
   "source": [
    "metal_price = {\n",
    "    \"gold\": 88.1553,\n",
    "    \"silver\": 1.0523,\n",
    "    \"platinum\": 32.169,\n",
    "    \"palladium\": 35.8252,\n",
    "    \"lbma_gold_am\": 88.3294,\n",
    "    \"lbma_gold_pm\": 88.2313,\n",
    "    \"lbma_silver\": 1.0545,\n",
    "    \"lbma_platinum_am\": 31.99,\n",
    "    \"lbma_platinum_pm\": 32.2793,\n",
    "    \"lbma_palladium_am\": 36.0088,\n",
    "    \"lbma_palladium_pm\": 36.2017,\n",
    "    \"mcx_gold\": 93.2689,\n",
    "    \"mcx_gold_am\": 94.281,\n",
    "    \"mcx_gold_pm\": 94.1764,\n",
    "    \"mcx_silver\": 1.125,\n",
    "    \"mcx_silver_am\": 1.1501,\n",
    "    \"mcx_silver_pm\": 1.1483,\n",
    "    \"ibja_gold\": 93.2713,\n",
    "    \"copper\": 0.0098,\n",
    "    \"aluminum\": 0.0026,\n",
    "    \"lead\": 0.0021,\n",
    "    \"nickel\": 0.0159,\n",
    "    \"zinc\": 0.0031,\n",
    "    \"lme_copper\": 0.0096,\n",
    "    \"lme_aluminum\": 0.0026,\n",
    "    \"lme_lead\": 0.002,\n",
    "    \"lme_nickel\": 0.0158,\n",
    "    \"lme_zinc\": 0.0031,\n",
    "}"
   ]
  },
  {
   "cell_type": "markdown",
   "metadata": {},
   "source": [
    "2.2 定义工具函数（LangChain 工具装饰器）"
   ]
  },
  {
   "cell_type": "code",
   "execution_count": 9,
   "metadata": {},
   "outputs": [],
   "source": [
    "from langchain_core.tools import tool\n",
    "\n",
    "\n",
    "@tool\n",
    "def get_metal_price(metal_name: str) -> float:\n",
    "    \"\"\"获取指定金属的当前价格（美元/克）\"\"\"\n",
    "    metal_name = metal_name.lower().strip()\n",
    "    if metal_name not in metal_price:\n",
    "        raise KeyError(\n",
    "            f\"金属'{metal_name}'未找到，可用金属：{', '.join(metal_price.keys())}\"\n",
    "        )\n",
    "    return metal_price[metal_name]"
   ]
  },
  {
   "cell_type": "markdown",
   "metadata": {},
   "source": [
    "2.3 绑定工具到 LLM（ChatOpenAI 模型）"
   ]
  },
  {
   "cell_type": "code",
   "execution_count": null,
   "metadata": {},
   "outputs": [],
   "source": [
    "tools = [get_metal_price]\n",
    "llm_with_tools = llm.bind_tools(tools)  # 将工具绑定到LLM"
   ]
  },
  {
   "cell_type": "markdown",
   "metadata": {},
   "source": [
    "2.4 定义对话状态与流程控制\n",
    "- 状态类（GraphState）：跟踪对话消息历史"
   ]
  },
  {
   "cell_type": "code",
   "execution_count": 13,
   "metadata": {},
   "outputs": [],
   "source": [
    "from langgraph.graph import END\n",
    "from langchain_core.messages import AnyMessage\n",
    "from langgraph.graph.message import add_messages\n",
    "from typing import Annotated, TypedDict\n",
    "\n",
    "\n",
    "class GraphState(TypedDict):\n",
    "    messages: Annotated[list[AnyMessage], add_messages]  # 存储对话消息列表"
   ]
  },
  {
   "cell_type": "markdown",
   "metadata": {},
   "source": [
    "- 流程控制函数（should_continue）：判断是否继续工具调用"
   ]
  },
  {
   "cell_type": "code",
   "execution_count": 14,
   "metadata": {},
   "outputs": [],
   "source": [
    "def should_continue(state: GraphState):\n",
    "    \"\"\"根据最后一条消息是否包含工具调用，决定是否继续对话\"\"\"\n",
    "    last_message = state[\"messages\"][-1]\n",
    "    return \"tools\" if last_message.tool_calls else END  # 有工具调用则继续，否则结束"
   ]
  },
  {
   "cell_type": "markdown",
   "metadata": {},
   "source": [
    "2.5 定义节点与构建状态图（StateGraph）\n",
    "- 助手节点（生成 LLM 响应）"
   ]
  },
  {
   "cell_type": "code",
   "execution_count": 16,
   "metadata": {},
   "outputs": [],
   "source": [
    "def assistant(state: GraphState):\n",
    "    response = llm_with_tools.invoke(state[\"messages\"])\n",
    "    return {\"messages\": [response]}  # 返回包含新消息的状态"
   ]
  },
  {
   "cell_type": "markdown",
   "metadata": {},
   "source": [
    "- 工具节点（管理工具执行）"
   ]
  },
  {
   "cell_type": "code",
   "execution_count": 17,
   "metadata": {},
   "outputs": [],
   "source": [
    "from langgraph.prebuilt import ToolNode\n",
    "\n",
    "tool_node = ToolNode(tools)  # 初始化工具节点，传入get_metal_price工具"
   ]
  },
  {
   "cell_type": "markdown",
   "metadata": {},
   "source": [
    "- 构建完整状态图"
   ]
  },
  {
   "cell_type": "code",
   "execution_count": 18,
   "metadata": {},
   "outputs": [
    {
     "data": {
      "image/png": "[encoded data removed]",
      "text/plain": [
       "<IPython.core.display.Image object>"
      ]
     },
     "metadata": {},
     "output_type": "display_data"
    }
   ],
   "source": [
    "from langgraph.graph import START, StateGraph\n",
    "from langgraph.prebuilt import tools_condition\n",
    "from IPython.display import Image, display\n",
    "\n",
    "builder = StateGraph(GraphState)  # 基于GraphState构建图\n",
    "\n",
    "# 添加节点\n",
    "builder.add_node(\"assistant\", assistant)\n",
    "builder.add_node(\"tools\", tool_node)\n",
    "\n",
    "# 定义边（流程走向）\n",
    "builder.add_edge(START, \"assistant\")  # 起始于助手节点\n",
    "builder.add_conditional_edges(\n",
    "    \"assistant\", tools_condition\n",
    ")  # 助手节点根据条件转向工具节点或结束\n",
    "builder.add_edge(\"tools\", \"assistant\")  # 工具调用后回到助手节点处理结果\n",
    "\n",
    "react_graph = builder.compile()  # 编译状态图\n",
    "display(\n",
    "    Image(react_graph.get_graph(xray=True).draw_mermaid_png())\n",
    ")  # 可视化图结构（生成流程图）"
   ]
  },
  {
   "cell_type": "markdown",
   "metadata": {},
   "source": [
    "### 3. 代理执行与消息格式转换\n",
    "3.1 运行代理并获取对话历史"
   ]
  },
  {
   "cell_type": "code",
   "execution_count": 20,
   "metadata": {},
   "outputs": [
    {
     "name": "stdout",
     "output_type": "stream",
     "text": [
      "[HumanMessage(content='铜(copper)的价格是多少？', additional_kwargs={}, response_metadata={}, id='3522393c-1f18-48c7-96be-2d52f2227958'), AIMessage(content='<think>\\n好的，用户问的是铜的价格。我需要调用get_metal_price这个函数来获取当前价格。首先，确认一下函数的参数，需要metal_name，类型是字符串。用户提到的金属是铜，所以参数应该是\"metal_name\": \"copper\"。然后按照格式返回工具调用的JSON。确保没有其他多余的信息，直接给出正确的工具调用结构。\\n</think>\\n\\n', additional_kwargs={'tool_calls': [{'id': 'call_e9s54dn6', 'function': {'arguments': '{\"metal_name\":\"copper\"}', 'name': 'get_metal_price'}, 'type': 'function', 'index': 0}], 'refusal': None}, response_metadata={'token_usage': {'completion_tokens': 110, 'prompt_tokens': 153, 'total_tokens': 263, 'completion_tokens_details': None, 'prompt_tokens_details': None}, 'model_name': 'qwen3', 'system_fingerprint': 'fp_ollama', 'id': 'chatcmpl-735', 'service_tier': None, 'finish_reason': 'tool_calls', 'logprobs': None}, id='run--623e908e-f917-4aac-bdd1-9ede6354349d-0', tool_calls=[{'name': 'get_metal_price', 'args': {'metal_name': 'copper'}, 'id': 'call_e9s54dn6', 'type': 'tool_call'}], usage_metadata={'input_tokens': 153, 'output_tokens': 110, 'total_tokens': 263, 'input_token_details': {}, 'output_token_details': {}}), ToolMessage(content='0.0098', name='get_metal_price', id='05bf4392-2dfb-4c69-9abb-f28fa55f8145', tool_call_id='call_e9s54dn6'), AIMessage(content='<think>\\n好的，现在用户问的是铜的价格，我需要先调用get_metal_price函数来获取最新的价格数据。根据之前的工具描述，这个函数需要传入metal_name参数，类型是字符串。用户的问题里明确提到了“铜(copper)”，所以参数应该是\"copper\"。接下来，我需要生成一个符合要求的tool_call结构，包含函数名和参数。然后，当用户给出响应0.0098时，我需要解析这个价格，并用自然的中文告诉用户当前铜的价格是每克0.0098美元。同时，可能需要提醒用户价格可能会波动，建议关注实时行情。确保回答简洁明了，符合用户的需求。\\n</think>\\n\\n当前铜（copper）的价格是每克0.0098美元。需要注意的是，金属价格会实时波动，建议关注最新市场行情以获取准确信息。', additional_kwargs={'refusal': None}, response_metadata={'token_usage': {'completion_tokens': 188, 'prompt_tokens': 259, 'total_tokens': 447, 'completion_tokens_details': None, 'prompt_tokens_details': None}, 'model_name': 'qwen3', 'system_fingerprint': 'fp_ollama', 'id': 'chatcmpl-966', 'service_tier': None, 'finish_reason': 'stop', 'logprobs': None}, id='run--1b31b5c7-c22a-4349-9d31-10df8b3ebea9-0', usage_metadata={'input_tokens': 259, 'output_tokens': 188, 'total_tokens': 447, 'input_token_details': {}, 'output_token_details': {}})]\n"
     ]
    }
   ],
   "source": [
    "from langchain_core.messages import HumanMessage\n",
    "\n",
    "# 示例查询：铜价\n",
    "messages = [HumanMessage(content=\"铜(copper)的价格是多少？\")]\n",
    "result = react_graph.invoke({\"messages\": messages})  # 执行状态图\n",
    "\n",
    "# 输出对话历史（包含HumanMessage、AIMessage、ToolMessage）\n",
    "print(result[\"messages\"])"
   ]
  },
  {
   "cell_type": "markdown",
   "metadata": {},
   "source": [
    "3.2 转换为 Ragas 评估格式"
   ]
  },
  {
   "cell_type": "code",
   "execution_count": 21,
   "metadata": {},
   "outputs": [],
   "source": [
    "from ragas.integrations.langgraph import convert_to_ragas_messages\n",
    "\n",
    "ragas_trace = convert_to_ragas_messages(result[\"messages\"])  # 转换为Ragas消息列表\n",
    "# 输出格式：包含type（human/ai/tool）、content、tool_calls的结构化数据"
   ]
  },
  {
   "cell_type": "code",
   "execution_count": 22,
   "metadata": {},
   "outputs": [
    {
     "data": {
      "text/plain": [
       "[HumanMessage(content='铜(copper)的价格是多少？', metadata=None, type='human'),\n",
       " AIMessage(content='<think>\\n好的，用户问的是铜的价格。我需要调用get_metal_price这个函数来获取当前价格。首先，确认一下函数的参数，需要metal_name，类型是字符串。用户提到的金属是铜，所以参数应该是\"metal_name\": \"copper\"。然后按照格式返回工具调用的JSON。确保没有其他多余的信息，直接给出正确的工具调用结构。\\n</think>\\n\\n', metadata=None, type='ai', tool_calls=[ToolCall(name='get_metal_price', args={'metal_name': 'copper'})]),\n",
       " ToolMessage(content='0.0098', metadata=None, type='tool'),\n",
       " AIMessage(content='<think>\\n好的，现在用户问的是铜的价格，我需要先调用get_metal_price函数来获取最新的价格数据。根据之前的工具描述，这个函数需要传入metal_name参数，类型是字符串。用户的问题里明确提到了“铜(copper)”，所以参数应该是\"copper\"。接下来，我需要生成一个符合要求的tool_call结构，包含函数名和参数。然后，当用户给出响应0.0098时，我需要解析这个价格，并用自然的中文告诉用户当前铜的价格是每克0.0098美元。同时，可能需要提醒用户价格可能会波动，建议关注实时行情。确保回答简洁明了，符合用户的需求。\\n</think>\\n\\n当前铜（copper）的价格是每克0.0098美元。需要注意的是，金属价格会实时波动，建议关注最新市场行情以获取准确信息。', metadata=None, type='ai', tool_calls=[])]"
      ]
     },
     "execution_count": 22,
     "metadata": {},
     "output_type": "execute_result"
    }
   ],
   "source": [
    "ragas_trace"
   ]
  },
  {
   "cell_type": "markdown",
   "metadata": {},
   "source": [
    "### 4. 代理性能评估（Ragas 指标）\n",
    "4.1 工具调用准确性（Tool Call Accuracy）\n",
    "- 目标：验证 LLM 是否正确调用工具及参数\n",
    "- 代码实现："
   ]
  },
  {
   "cell_type": "code",
   "execution_count": 23,
   "metadata": {},
   "outputs": [
    {
     "name": "stdout",
     "output_type": "stream",
     "text": [
      "Tool Call Accuracy: 1.0\n"
     ]
    }
   ],
   "source": [
    "from ragas.metrics import ToolCallAccuracy\n",
    "from ragas.dataset_schema import MultiTurnSample\n",
    "from ragas.messages import ToolCall\n",
    "\n",
    "# 创建评估样本（指定预期工具调用）\n",
    "sample = MultiTurnSample(\n",
    "    user_input=ragas_trace,  # 转换后的Ragas消息列表\n",
    "    reference_tool_calls=[\n",
    "        ToolCall(name=\"get_metal_price\", args={\"metal_name\": \"copper\"})\n",
    "    ],\n",
    ")\n",
    "\n",
    "# 计算得分（1.0表示完全正确）\n",
    "tool_accuracy_scorer = ToolCallAccuracy()\n",
    "score = await tool_accuracy_scorer.multi_turn_ascore(sample)\n",
    "print(f\"Tool Call Accuracy: {score}\")  # 输出：1.0"
   ]
  },
  {
   "cell_type": "markdown",
   "metadata": {},
   "source": [
    "4.2 代理目标准确性（Agent Goal Accuracy）\n",
    "- 目标：验证代理是否达成用户最终目标（如计算 10 克银价）\n",
    "- 代码实现（以复杂查询为例）"
   ]
  },
  {
   "cell_type": "code",
   "execution_count": 24,
   "metadata": {},
   "outputs": [
    {
     "name": "stdout",
     "output_type": "stream",
     "text": [
      "[HumanMessage(content='10 克白银(silver)的价格是多少？', additional_kwargs={}, response_metadata={}, id='1d1bd03e-b73f-49b1-ba70-60edcfdfd4bd'), AIMessage(content='<think>\\n好的，用户问的是10克白银的价格是多少。首先，我需要确定用户需要的是当前价格，所以应该调用获取金属价格的函数。查看提供的工具，有一个get_metal_price函数，参数是metal_name。用户提到的白银对应的金属名称应该是silver。所以需要调用这个函数，参数设置为silver。然后，函数会返回价格，单位是美元/克。得到价格后，再乘以10克，得到总金额。最后用中文回答用户，显示总价格。需要确保步骤正确，参数正确，单位转换正确。\\n</think>\\n\\n', additional_kwargs={'tool_calls': [{'id': 'call_xbm0uzes', 'function': {'arguments': '{\"metal_name\":\"silver\"}', 'name': 'get_metal_price'}, 'type': 'function', 'index': 0}], 'refusal': None}, response_metadata={'token_usage': {'completion_tokens': 148, 'prompt_tokens': 157, 'total_tokens': 305, 'completion_tokens_details': None, 'prompt_tokens_details': None}, 'model_name': 'qwen3', 'system_fingerprint': 'fp_ollama', 'id': 'chatcmpl-516', 'service_tier': None, 'finish_reason': 'tool_calls', 'logprobs': None}, id='run--9ecd2ac5-de22-453f-ac9b-3c3bcfaf7dc2-0', tool_calls=[{'name': 'get_metal_price', 'args': {'metal_name': 'silver'}, 'id': 'call_xbm0uzes', 'type': 'tool_call'}], usage_metadata={'input_tokens': 157, 'output_tokens': 148, 'total_tokens': 305, 'input_token_details': {}, 'output_token_details': {}}), ToolMessage(content='1.0523', name='get_metal_price', id='66908147-93fe-4f5e-abd2-034324cded9d', tool_call_id='call_xbm0uzes'), AIMessage(content='<think>\\n好的，现在用户问的是10克白银的价格，我需要先调用get_metal_price函数来获取当前白银的价格。根据之前的工具描述，函数参数是metal_name，所以应该传入\"silver\"。调用后得到的价格是1.0523美元/克。接下来计算10克的总价，就是1.0523乘以10，等于10.523美元。最后用中文回复用户，说明当前价格和总价，保持回答简洁明了。\\n</think>\\n\\n10克白银的当前价格是10.523美元。', additional_kwargs={'refusal': None}, response_metadata={'token_usage': {'completion_tokens': 131, 'prompt_tokens': 302, 'total_tokens': 433, 'completion_tokens_details': None, 'prompt_tokens_details': None}, 'model_name': 'qwen3', 'system_fingerprint': 'fp_ollama', 'id': 'chatcmpl-437', 'service_tier': None, 'finish_reason': 'stop', 'logprobs': None}, id='run--b3ee66e2-c8e8-43b5-8b17-268eb83246d2-0', usage_metadata={'input_tokens': 302, 'output_tokens': 131, 'total_tokens': 433, 'input_token_details': {}, 'output_token_details': {}})]\n",
      "Agent Goal Accuracy: 1.0\n"
     ]
    }
   ],
   "source": [
    "from ragas.metrics import AgentGoalAccuracyWithReference\n",
    "from ragas.llms import LangchainLLMWrapper\n",
    "\n",
    "# 新查询：10克银价\n",
    "messages = [HumanMessage(content=\"10 克白银(silver)的价格是多少？\")]\n",
    "result = react_graph.invoke({\"messages\": messages})\n",
    "print(result[\"messages\"])\n",
    "ragas_trace = convert_to_ragas_messages(result[\"messages\"])\n",
    "\n",
    "# 创建样本（指定目标描述）\n",
    "sample = MultiTurnSample(\n",
    "    user_input=ragas_trace, reference=\"10 克白银的价格\"  # 预期目标\n",
    ")\n",
    "\n",
    "# 初始化评估LLM并计算得分\n",
    "evaluator_llm = LangchainLLMWrapper(llm)\n",
    "scorer = AgentGoalAccuracyWithReference()\n",
    "scorer.llm = evaluator_llm\n",
    "score = await scorer.multi_turn_ascore(sample)\n",
    "print(f\"Agent Goal Accuracy: {score}\")  # 输出：1.0（目标达成）"
   ]
  }
 ],
 "metadata": {
  "kernelspec": {
   "display_name": ".venv (3.12.10)",
   "language": "python",
   "name": "python3"
  },
  "language_info": {
   "codemirror_mode": {
    "name": "ipython",
    "version": 3
   },
   "file_extension": ".py",
   "mimetype": "text/x-python",
   "name": "python",
   "nbconvert_exporter": "python",
   "pygments_lexer": "ipython3",
   "version": "3.12.10"
  }
 },
 "nbformat": 4,
 "nbformat_minor": 2
}
