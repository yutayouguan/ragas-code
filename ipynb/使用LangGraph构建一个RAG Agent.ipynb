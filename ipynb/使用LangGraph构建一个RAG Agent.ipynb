{
 "cells": [
  {
   "cell_type": "markdown",
   "metadata": {},
   "source": [
    "核心目标\n",
    "通过LangGraph框架实现RAG Agent，结合检索（Retrieval）、增强（Augmentation）、生成（Generation）逻辑，使LLM能利用外部知识库生成准确可信的回答。\n",
    "1. RAG Agent核心逻辑\n",
    "1. 检索：从知识库中提取相关文档；  \n",
    "2. 增强：将检索结果融入提示词（Prompt）；  \n",
    "3. 生成：基于增强后的提示词输出答案。\n",
    "2. 预处理文档\n",
    "工具：使用WebBaseLoader加载网页文档。"
   ]
  },
  {
   "cell_type": "markdown",
   "metadata": {},
   "source": [
    "### 1. 模型配置"
   ]
  },
  {
   "cell_type": "markdown",
   "metadata": {},
   "source": [
    "1.1 环境变量配置"
   ]
  },
  {
   "cell_type": "markdown",
   "metadata": {
    "vscode": {
     "languageId": "raw"
    }
   },
   "source": [
    "OPENAI_API_KEY=ollama\n",
    "OPENAI_MODEL=qwen3\n",
    "OPENAI_BASE_URL=http://192.168.3.2:11434/v1\n",
    "OPENAI_TIMEOUT=120\n",
    "OPENAI_EMBEDDING_MODEL=bge-m3"
   ]
  },
  {
   "cell_type": "code",
   "execution_count": null,
   "metadata": {},
   "outputs": [],
   "source": [
    "from pydantic_settings import BaseSettings, SettingsConfigDict\n",
    "from pydantic import SecretStr\n",
    "\n",
    "\n",
    "class Settings(BaseSettings):\n",
    "    model_config = SettingsConfigDict(\n",
    "        env_file=\".env\", env_file_encoding=\"utf-8\", extra=\"ignore\", case_sensitive=False\n",
    "    )\n",
    "    openai_api_key: SecretStr\n",
    "    openai_base_url: str\n",
    "    openai_model: str  # 评估用LLM\n",
    "    openai_embedding_model: str  # 嵌入模型\n",
    "    temperature: float = 0.1  # 固定随机种子，确保评估结果稳定\n",
    "\n",
    "\n",
    "config = Settings()"
   ]
  },
  {
   "cell_type": "code",
   "execution_count": 3,
   "metadata": {},
   "outputs": [
    {
     "data": {
      "text/plain": [
       "Settings(openai_api_key=SecretStr('**********'), openai_base_url='http://127.0.0.1:11434/v1', openai_model='qwen3', openai_embedding_model='bge-m3', temperature=0)"
      ]
     },
     "execution_count": 3,
     "metadata": {},
     "output_type": "execute_result"
    }
   ],
   "source": [
    "config"
   ]
  },
  {
   "cell_type": "markdown",
   "metadata": {},
   "source": [
    "1.2 模型配置"
   ]
  },
  {
   "cell_type": "code",
   "execution_count": 4,
   "metadata": {},
   "outputs": [],
   "source": [
    "from ragas.llms import LangchainLLMWrapper\n",
    "from ragas.embeddings import LangchainEmbeddingsWrapper\n",
    "from langchain_openai import ChatOpenAI, OpenAIEmbeddings\n",
    "\n",
    "\n",
    "llm = ChatOpenAI(\n",
    "    base_url=config.openai_base_url,\n",
    "    api_key=config.openai_api_key,\n",
    "    model=config.openai_model,\n",
    "    temperature=config.temperature,\n",
    ")\n",
    "embeddings = OpenAIEmbeddings(\n",
    "    model=config.openai_embedding_model,\n",
    "    base_url=config.openai_base_url,\n",
    "    api_key=config.openai_api_key,\n",
    ")\n",
    "\n",
    "generator_llm = LangchainLLMWrapper(llm)\n",
    "generator_embedding = LangchainEmbeddingsWrapper(embeddings=embeddings)"
   ]
  },
  {
   "cell_type": "markdown",
   "metadata": {},
   "source": [
    "## 2. 预处理文档\n",
    "工具：使用WebBaseLoader加载网页文档。  "
   ]
  },
  {
   "cell_type": "code",
   "execution_count": 5,
   "metadata": {},
   "outputs": [
    {
     "name": "stderr",
     "output_type": "stream",
     "text": [
      "USER_AGENT environment variable not set, consider setting it to identify your requests.\n"
     ]
    }
   ],
   "source": [
    "# - 功能：从指定URL加载文档，生成文档列表docs。\n",
    "from langchain_community.document_loaders import WebBaseLoader\n",
    "\n",
    "urls = [\n",
    "    \"https://lilianweng.github.io/posts/2024-11-28-reward-hacking/\",\n",
    "    \"https://lilianweng.github.io/posts/2024-07-07-hallucination/\",\n",
    "    \"https://lilianweng.github.io/posts/2024-04-12-diffusion-video/\",\n",
    "]\n",
    "docs = (WebBaseLoader(url).load() for url in urls)  # 生成器"
   ]
  },
  {
   "cell_type": "markdown",
   "metadata": {},
   "source": [
    "## 3. 创建检索工具\n",
    "\n",
    "3.1 文本切分\n",
    "- 功能：将文档拆分为固定大小的块（chunk_size=100），重叠部分chunk_overlap=20 以保证语义连贯。"
   ]
  },
  {
   "cell_type": "code",
   "execution_count": 19,
   "metadata": {},
   "outputs": [],
   "source": [
    "from langchain_text_splitters import RecursiveCharacterTextSplitter\n",
    "from itertools import chain\n",
    "\n",
    "# docs_list = [item for sublist in docs for item in sublist]\n",
    "docs_list = chain.from_iterable(docs)  # 展平为一个单一的迭代器(高效率)\n",
    "\n",
    "text_splitter = RecursiveCharacterTextSplitter.from_tiktoken_encoder(\n",
    "    chunk_size=100, chunk_overlap=20\n",
    ")\n",
    "\n",
    "doc_splits = text_splitter.split_documents(docs_list)"
   ]
  },
  {
   "cell_type": "markdown",
   "metadata": {},
   "source": [
    "3.2 向量存储与检索器\n",
    "- 功能：使用阿里QianWen的DashScopeEmbeddings将文档转为向量，存入内存向量数据库InMemoryVectorStore，生成检索器retriever。"
   ]
  },
  {
   "cell_type": "code",
   "execution_count": 20,
   "metadata": {},
   "outputs": [],
   "source": [
    "from langchain_core.vectorstores import InMemoryVectorStore\n",
    "from langchain_community.vectorstores import Chroma\n",
    "\n",
    "vector_store = InMemoryVectorStore.from_documents(\n",
    "    documents=doc_splits, embedding=embeddings\n",
    ")\n",
    "\n",
    "# vector_store = Chroma.from_documents(documents=doc_splits, embedding=embeddings)\n",
    "retriever = vector_store.as_retriever()"
   ]
  },
  {
   "cell_type": "markdown",
   "metadata": {},
   "source": [
    "3.3 创建检索工具函数\n",
    "- 功能：封装检索器为工具retriever_tool，用于后续流程调用。"
   ]
  },
  {
   "cell_type": "code",
   "execution_count": 21,
   "metadata": {},
   "outputs": [],
   "source": [
    "from langchain.tools.retriever import create_retriever_tool\n",
    "\n",
    "retriever_tool = create_retriever_tool(\n",
    "    retriever,\n",
    "    \"retriever_blog_posts\",\n",
    "    \"Search and return information about Lilian wang blog posts\",\n",
    ")"
   ]
  },
  {
   "cell_type": "markdown",
   "metadata": {},
   "source": [
    "4. 生成查询与决策节点\n",
    "- 功能：根据用户问题，决定是否调用检索工具或直接生成回答。"
   ]
  },
  {
   "cell_type": "code",
   "execution_count": 22,
   "metadata": {},
   "outputs": [],
   "source": [
    "from langgraph.graph import MessagesState\n",
    "\n",
    "\n",
    "def generate_query_or_response(state: MessagesState):\n",
    "    response = llm.bind_tools([retriever_tool]).invoke(state[\"messages\"])\n",
    "    return {\"messages\": [response]}"
   ]
  },
  {
   "cell_type": "markdown",
   "metadata": {},
   "source": [
    "5. 文档相关性评分\n",
    "\n",
    "- 功能：若文档相关（yes），进入生成答案节点；否则进入问题重写节点。"
   ]
  },
  {
   "cell_type": "code",
   "execution_count": 23,
   "metadata": {},
   "outputs": [],
   "source": [
    "from typing import Literal\n",
    "from pydantic import BaseModel, Field\n",
    "from langchain.schema.messages import HumanMessage\n",
    "\n",
    "GRADE_PROMPT = (\n",
    "    \"You are a grader assessing relevance of a retrieved document to a user question. \\n \"\n",
    "    \"Here is the retrieved document: \\n\\n {context} \\n\\n\"\n",
    "    \"Here is the user question: {question} \\n\"\n",
    "    \"If the document contains keyword(s) or semantic meaning related to the user question, grade it as relevant. \\n\"\n",
    "    \"Give a binary score 'yes' or 'no' score to indicate whether the document is relevant to the question.\"\n",
    ")\n",
    "\n",
    "\n",
    "class GradeDocuments(BaseModel):\n",
    "    binary_score: str = Field(..., description=\"Relevance score: 'yes' or 'no'\")\n",
    "\n",
    "\n",
    "grader_model = llm\n",
    "\n",
    "\n",
    "def grade_documents(\n",
    "    state: MessagesState,\n",
    ") -> Literal[\"generate_answer\", \"rewrite_question\"]:\n",
    "    question = [\n",
    "        msg.content for msg in state[\"messages\"] if isinstance(msg, HumanMessage)\n",
    "    ][0]\n",
    "    context = state[\"messages\"][-1].content\n",
    "    prompt = GRADE_PROMPT.format(question=question, context=context)\n",
    "    response = grader_model.with_structured_output(GradeDocuments).invoke(\n",
    "        [HumanMessage(prompt)]\n",
    "    )\n",
    "    return [\"generate_answer\", \"rewrite_question\"][response.binary_score == \"no\"]"
   ]
  },
  {
   "cell_type": "markdown",
   "metadata": {},
   "source": [
    "6. 重写问题\n",
    "- 功能：当文档不相关时，基于用户问题生成更精准的查询。"
   ]
  },
  {
   "cell_type": "code",
   "execution_count": 24,
   "metadata": {},
   "outputs": [],
   "source": [
    "REWRITE_PROMPT = (\n",
    "    \"Look at the input and try to reason about the underlying semantic intent / meaning.\\n\"\n",
    "    \"Here is the initial question:\"\n",
    "    \"\\n ------- \\n\"\n",
    "    \"{question}\"\n",
    "    \"\\n ------- \\n\"\n",
    "    \"Formulate an improved question:\"\n",
    ")\n",
    "\n",
    "\n",
    "def rewrite_question(state: MessagesState):\n",
    "    question = [\n",
    "        msg.content for msg in state[\"messages\"] if isinstance(msg, HumanMessage)\n",
    "    ][0]\n",
    "    prompt = REWRITE_PROMPT.format(question=question)\n",
    "    response = llm.invoke([HumanMessage(prompt)])\n",
    "    return {\"messages\": [HumanMessage(response.content)]}"
   ]
  },
  {
   "cell_type": "markdown",
   "metadata": {},
   "source": [
    "7. 生成答案\n",
    "- 功能：结合检索结果和问题，生成最终回答（限3句话内）"
   ]
  },
  {
   "cell_type": "code",
   "execution_count": 25,
   "metadata": {},
   "outputs": [],
   "source": [
    "GENERATE_PROMPT = (\n",
    "    \"You are an assistant for question-answering tasks. \"\n",
    "    \"Use the following pieces of retrieved context to answer the question. \"\n",
    "    \"If you don't know the answer, just say that you don't know. \"\n",
    "    \"Use three sentences maximum and keep the answer concise.\\n\"\n",
    "    \"Question: {question} \\n\"\n",
    "    \"Context: {context}\"\n",
    ")\n",
    "\n",
    "\n",
    "def generate_answer(state: MessagesState):\n",
    "    question = [\n",
    "        msg.content for msg in state[\"messages\"] if isinstance(msg, HumanMessage)\n",
    "    ][0]\n",
    "    context = state[\"messages\"][-1].content\n",
    "    prompt = GENERATE_PROMPT.format(question=question, context=context)\n",
    "    response = llm.invoke([HumanMessage(prompt)])\n",
    "    return {\"messages\": [response]}"
   ]
  },
  {
   "cell_type": "markdown",
   "metadata": {},
   "source": [
    "8. 组装StateGraph\n",
    "- 流程逻辑：  \n",
    "  1. 从START开始，调用generate_query_or_respond决定是否检索；  \n",
    "  2. 若需检索，调用retriever_tool，再通过grade_documents判断相关性；  \n",
    "  3. 相关则生成答案（generate_answer），不相关则重写问题（rewrite_question）并重新进入流程。"
   ]
  },
  {
   "cell_type": "code",
   "execution_count": 26,
   "metadata": {},
   "outputs": [],
   "source": [
    "from langgraph.graph import StateGraph, START, END\n",
    "from langgraph.prebuilt import ToolNode, tools_condition\n",
    "\n",
    "workflow = StateGraph(MessagesState)\n",
    "\n",
    "\n",
    "workflow.add_node(generate_query_or_response)\n",
    "workflow.add_node(\"retrieve\", ToolNode([retriever_tool]))\n",
    "workflow.add_node(rewrite_question)\n",
    "workflow.add_node(generate_answer)\n",
    "\n",
    "# 定义流程逻辑\n",
    "workflow.add_edge(START, \"generate_query_or_response\")\n",
    "# 决定是否使用检索工具\n",
    "workflow.add_conditional_edges(\n",
    "    \"generate_query_or_response\",\n",
    "    tools_condition,\n",
    "    {\n",
    "        # 将条件输出转换为图中的节点\n",
    "        \"tools\": \"retrieve\",\n",
    "        END: END,\n",
    "    },\n",
    ")\n",
    "workflow.add_conditional_edges(\n",
    "    \"retrieve\",\n",
    "    grade_documents,\n",
    ")\n",
    "workflow.add_edge(\"generate_answer\", END)\n",
    "workflow.add_edge(\"rewrite_question\", \"generate_query_or_response\")\n",
    "\n",
    "\n",
    "graph = workflow.compile()"
   ]
  },
  {
   "cell_type": "code",
   "execution_count": 27,
   "metadata": {},
   "outputs": [
    {
     "data": {
      "image/png": "[encoded data removed]",
      "text/plain": [
       "<IPython.core.display.Image object>"
      ]
     },
     "execution_count": 27,
     "metadata": {},
     "output_type": "execute_result"
    }
   ],
   "source": [
    "import IPython.display\n",
    "\n",
    "# 显示图片\n",
    "IPython.display.Image(graph.get_graph().draw_mermaid_png())"
   ]
  },
  {
   "cell_type": "code",
   "execution_count": null,
   "metadata": {},
   "outputs": [],
   "source": [
    "messages = [HumanMessage(\"什么是强化学习中的奖励黑客攻击？\")]\n",
    "\n",
    "result = graph.invoke({\"messages\": messages})\n",
    "\n",
    "print(result)"
   ]
  },
  {
   "cell_type": "code",
   "execution_count": null,
   "metadata": {},
   "outputs": [],
   "source": []
  }
 ],
 "metadata": {
  "kernelspec": {
   "display_name": ".venv (3.12.10)",
   "language": "python",
   "name": "python3"
  },
  "language_info": {
   "codemirror_mode": {
    "name": "ipython",
    "version": 3
   },
   "file_extension": ".py",
   "mimetype": "text/x-python",
   "name": "python",
   "nbconvert_exporter": "python",
   "pygments_lexer": "ipython3",
   "version": "3.12.10"
  }
 },
 "nbformat": 4,
 "nbformat_minor": 2
}
